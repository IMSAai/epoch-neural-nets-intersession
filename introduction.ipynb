{
 "cells": [
  {
   "cell_type": "markdown",
   "metadata": {},
   "source": [
    "# Welcome to \"Introduction to Neural Networks with Python led by Epoch\"\n",
    "\n",
    "***\n",
    "\n"
   ]
  },
  {
   "cell_type": "markdown",
   "metadata": {},
   "source": [
    "# Who we are\n",
    "\n",
    "### Ethan Haque (ehaque@imsa.edu)\n",
    "- CEO of Epoch and one of your instructors.\n",
    "\n",
    "\n",
    "### Dev Singh (dsingh@imsa.edu)\n",
    "- CTO of Epoch and one of your instructors.\n",
    "\n",
    "\n",
    "### Anthony Stuckey (astuckey@imsa.edu)\n",
    "- Network Engineer at IMSA.\n",
    "- Generous sponsor of this Intersession!\n",
    "- Thank you!\n",
    "\n"
   ]
  },
  {
   "cell_type": "markdown",
   "metadata": {},
   "source": [
    "***"
   ]
  },
  {
   "cell_type": "markdown",
   "metadata": {},
   "source": [
    "# The Goal of This Intersession \n",
    "\n",
    "By the end of these three days: \n",
    "1. You will have seen several fun examples of how you can use neural networks in your projects\n",
    "2. You will have a good idea of how to use neural networks in your own projects"
   ]
  },
  {
   "cell_type": "markdown",
   "metadata": {},
   "source": [
    "***"
   ]
  },
  {
   "cell_type": "markdown",
   "metadata": {},
   "source": [
    "# Schedule by Day\n",
    "<ol>\n",
    "  <li>\n",
    "      A brief introduction to what a neural network is\n",
    "      <ul>\n",
    "          <li>A basic implementation from scratch</li>\n",
    "          <li>Solving the XOR problem and creating a written digit classifier</li>\n",
    "      </ul>\n",
    "      Ethan\n",
    "      <ul>\n",
    "          <li>What are Neural Networks</li>\n",
    "          <li>Explaining the code!</li>\n",
    "          <li>what are neurons and layers and how they work</li>\n",
    "          <li>The file structure of the MNIST dataset</li>\n",
    "      </ul>\n",
    "      Dev\n",
    "      <ul>\n",
    "          <li>What are activation and loss functions</li>\n",
    "          <li>How backpropagation and gradient descent work</li>\n",
    "          <li>What is the MNIST dataset</li>\n",
    "      </ul>\n",
    "  </li>\n",
    "  <br>\n",
    "  <li>\n",
    "      Working with the MNIST digit dataset\n",
    "      <ul>\n",
    "          <li>Using numpy and pytorch</li>\n",
    "          <li>Different image recognition techniques</li>\n",
    "          <li>Convolutional neural networks (CNNs)</li>\n",
    "      </ul>\n",
    "  </li>\n",
    "  <br>\n",
    "  <li>\n",
    "      Fun neural network shenanigans\n",
    "      <ul>\n",
    "          <li>Quick projects</li>\n",
    "          <li>Further interest</li>\n",
    "          <li>Different architectures, libraries, and services you can use</li>\n",
    "          <li><strong>Using the Epoch Cluster</strong></li>\n",
    "      </ul>\n",
    "  </li>\n",
    "</ol>"
   ]
  },
  {
   "cell_type": "markdown",
   "metadata": {},
   "source": [
    "***"
   ]
  },
  {
   "cell_type": "markdown",
   "metadata": {},
   "source": [
    "# Day 1"
   ]
  },
  {
   "cell_type": "markdown",
   "metadata": {},
   "source": [
    "Link to our first notebook [what is a neural network?](what_is_a_neural_network.ipynb)"
   ]
  }
 ],
 "metadata": {
  "kernelspec": {
   "display_name": "Python 3",
   "language": "python",
   "name": "python3"
  },
  "language_info": {
   "codemirror_mode": {
    "name": "ipython",
    "version": 3
   },
   "file_extension": ".py",
   "mimetype": "text/x-python",
   "name": "python",
   "nbconvert_exporter": "python",
   "pygments_lexer": "ipython3",
   "version": "3.8.3"
  }
 },
 "nbformat": 4,
 "nbformat_minor": 4
}
