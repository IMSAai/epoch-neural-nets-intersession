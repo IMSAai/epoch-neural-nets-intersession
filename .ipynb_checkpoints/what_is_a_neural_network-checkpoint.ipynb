{
 "cells": [
  {
   "cell_type": "markdown",
   "metadata": {},
   "source": [
    "# Buzz Words but What do They Mean?"
   ]
  },
  {
   "cell_type": "markdown",
   "metadata": {},
   "source": [
    "![NNs are a small subset of ai, ml, and deep learning](images\\what_is_a_neural_network\\small_subset_of_ai.jpg)"
   ]
  },
  {
   "cell_type": "markdown",
   "metadata": {},
   "source": [
    "### Simple Neural Network\n",
    "\n",
    "![simple neural network architecture](images\\what_is_a_neural_network\\basic_neural_network.jpeg)"
   ]
  },
  {
   "cell_type": "markdown",
   "metadata": {},
   "source": [
    "Neural networks are really a tiny subset of a bunch of different, larger categories of problem-solving techniques."
   ]
  },
  {
   "cell_type": "markdown",
   "metadata": {},
   "source": [
    "![basic neuron in a neural network](images\\what_is_a_neural_network\\basic_neuron_with_bias.jpg)"
   ]
  },
  {
   "cell_type": "markdown",
   "metadata": {},
   "source": [
    "The most basic unit of a neural network is a single neuron."
   ]
  },
  {
   "cell_type": "markdown",
   "metadata": {},
   "source": [
    "### What are the Parts of a Neuron?"
   ]
  },
  {
   "cell_type": "markdown",
   "metadata": {},
   "source": [
    "1. inputs\n",
    "2. weight\n",
    "3. sum & bias (dot product)\n",
    "4. activation function \n",
    "5. output"
   ]
  },
  {
   "cell_type": "markdown",
   "metadata": {},
   "source": [
    "### Types of Activation Functions"
   ]
  },
  {
   "cell_type": "markdown",
   "metadata": {},
   "source": [
    "![types of activation functions](images\\what_is_a_neural_network\\types_of_activation_functions.jpg)"
   ]
  },
  {
   "cell_type": "markdown",
   "metadata": {},
   "source": [
    "### The Sigmoid Activation Function\n",
    "This is what we'll be using for this simple example:"
   ]
  },
  {
   "cell_type": "markdown",
   "metadata": {},
   "source": [
    "![the sigmoid function](images\\what_is_a_neural_network\\sigmoid.png)"
   ]
  },
  {
   "cell_type": "code",
   "execution_count": 18,
   "metadata": {},
   "outputs": [],
   "source": [
    "import numpy as np"
   ]
  },
  {
   "cell_type": "code",
   "execution_count": 19,
   "metadata": {},
   "outputs": [],
   "source": [
    "def sigmoid(z):\n",
    "    return 1/(1 + np.exp(-z))"
   ]
  },
  {
   "cell_type": "markdown",
   "metadata": {},
   "source": [
    "### The basic Neuron class"
   ]
  },
  {
   "cell_type": "code",
   "execution_count": 36,
   "metadata": {},
   "outputs": [],
   "source": [
    "class Neuron:\n",
    "    def __init__(self):\n",
    "        self.weights = None\n",
    "        self.bias = None\n",
    "        \n",
    "    def calc_neuron_output(self, inputs):\n",
    "        sum = 0\n",
    "        for inpt, weight in zip(inputs, self.weights):\n",
    "            sum += inpt * weight\n",
    "        sum += self.bias\n",
    "        return sum \n",
    "    \n",
    "    ###############\n",
    "    ## IMPORTANT ##\n",
    "    ###############\n",
    "    # this is dumb and instead of doing this the dumb way we should probably explain how to do this with matrices right \n",
    "    # here and now\n",
    "    \n",
    "    def activation(self, func, inputs):\n",
    "        neuron_output = self.calc_neuron_output(inputs)\n",
    "        return func(neuron_output)"
   ]
  },
  {
   "cell_type": "markdown",
   "metadata": {},
   "source": [
    "Our basic Neuron class contains a few methods and a few attributes. \n",
    "\n",
    "It has a constructor which allows us to create Neurons.\n",
    "\n",
    "It has a calc_neuron_output function (function and method mean the same thing) which takes in some inputs and performs the following calculation: \n",
    "\n",
    "\\begin{equation*}\n",
    "y_j = b_j +  \\sum_{i} x_iw_{ij}\n",
    "\\end{equation*}\n",
    "\n",
    "Which means the output of neuron \"y sub j\" is the sum of all the inputs times their weights plus a bias."
   ]
  },
  {
   "cell_type": "code",
   "execution_count": 1,
   "metadata": {},
   "outputs": [
    {
     "ename": "NameError",
     "evalue": "name 'Neuron' is not defined",
     "output_type": "error",
     "traceback": [
      "\u001b[1;31m---------------------------------------------------------------------------\u001b[0m",
      "\u001b[1;31mNameError\u001b[0m                                 Traceback (most recent call last)",
      "\u001b[1;32m<ipython-input-1-56ccac2fb458>\u001b[0m in \u001b[0;36m<module>\u001b[1;34m\u001b[0m\n\u001b[1;32m----> 1\u001b[1;33m \u001b[0mn\u001b[0m \u001b[1;33m=\u001b[0m \u001b[0mNeuron\u001b[0m\u001b[1;33m(\u001b[0m\u001b[1;33m)\u001b[0m\u001b[1;33m\u001b[0m\u001b[1;33m\u001b[0m\u001b[0m\n\u001b[0m\u001b[0;32m      2\u001b[0m \u001b[0mn\u001b[0m\u001b[1;33m.\u001b[0m\u001b[0mweights\u001b[0m \u001b[1;33m=\u001b[0m \u001b[1;33m[\u001b[0m\u001b[1;36m0.1\u001b[0m\u001b[1;33m,\u001b[0m \u001b[1;36m0.2\u001b[0m\u001b[1;33m,\u001b[0m \u001b[1;36m0.3\u001b[0m\u001b[1;33m,\u001b[0m \u001b[1;36m0.4\u001b[0m\u001b[1;33m]\u001b[0m\u001b[1;33m\u001b[0m\u001b[1;33m\u001b[0m\u001b[0m\n\u001b[0;32m      3\u001b[0m \u001b[0mn\u001b[0m\u001b[1;33m.\u001b[0m\u001b[0mbias\u001b[0m \u001b[1;33m=\u001b[0m \u001b[1;36m1\u001b[0m\u001b[1;33m\u001b[0m\u001b[1;33m\u001b[0m\u001b[0m\n\u001b[0;32m      4\u001b[0m \u001b[1;33m\u001b[0m\u001b[0m\n\u001b[0;32m      5\u001b[0m \u001b[0minpts\u001b[0m \u001b[1;33m=\u001b[0m \u001b[1;33m[\u001b[0m\u001b[1;36m1\u001b[0m\u001b[1;33m,\u001b[0m \u001b[1;36m1\u001b[0m\u001b[1;33m,\u001b[0m \u001b[1;36m1\u001b[0m\u001b[1;33m,\u001b[0m \u001b[1;36m1\u001b[0m\u001b[1;33m]\u001b[0m\u001b[1;33m\u001b[0m\u001b[1;33m\u001b[0m\u001b[0m\n",
      "\u001b[1;31mNameError\u001b[0m: name 'Neuron' is not defined"
     ]
    }
   ],
   "source": [
    "n = Neuron()\n",
    "n.weights = [0.1, 0.2, 0.3, 0.4]\n",
    "n.bias = 1\n",
    "\n",
    "inpts = [1, 1, 1, 1]\n",
    "print(n.calc_neuron_output(inpts))\n",
    "print(n.activation(sigmoid, inpts))"
   ]
  },
  {
   "cell_type": "markdown",
   "metadata": {},
   "source": [
    "It looks like our basic Neuron class works!\n",
    "\n",
    "Lets make a class for our input neurons because they're a bit special. For our basic example, we'll just have the neuron return its input and not do anything to it. "
   ]
  },
  {
   "cell_type": "code",
   "execution_count": 50,
   "metadata": {},
   "outputs": [],
   "source": [
    "class InputNeuron(Neuron):\n",
    "    def __init__(self):\n",
    "        self.inpt = None\n",
    "        \n",
    "    def calc_neuron_output(self):\n",
    "        return self.inpt"
   ]
  },
  {
   "cell_type": "code",
   "execution_count": 52,
   "metadata": {},
   "outputs": [
    {
     "data": {
      "text/plain": [
       "1"
      ]
     },
     "execution_count": 52,
     "metadata": {},
     "output_type": "execute_result"
    }
   ],
   "source": [
    "n_input = InputNeuron()\n",
    "n_input.inpt = 1\n",
    "\n",
    "n_input.calc_neuron_output()"
   ]
  },
  {
   "cell_type": "markdown",
   "metadata": {},
   "source": [
    "Works just about how you would expect it to!\n",
    "\n",
    "Now, lets combine our neurons into layers so we can start building the \"network\" part of a NN (neural network)."
   ]
  },
  {
   "cell_type": "code",
   "execution_count": 55,
   "metadata": {},
   "outputs": [],
   "source": [
    "class Layer():\n",
    "    def __init__(self):\n",
    "        self.neurons = []\n",
    "        self.outputs = []\n",
    "    \n",
    "    # We will define these methods later\n",
    "    def forward_propagation(self, inputs):\n",
    "        raise NotImplementedError\n",
    "    \n",
    "    def back_propagation(self, output_error, learning_rate):\n",
    "        raise NotImplementedError"
   ]
  },
  {
   "cell_type": "markdown",
   "metadata": {},
   "source": [
    "We've created a basic Layer class which holds a bunch of neurons and helps us train our neural network. \n",
    "\n",
    "You might be wondering what it means to \"train\" a NN, and that is a very important question. "
   ]
  }
 ],
 "metadata": {
  "kernelspec": {
   "display_name": "Python 3",
   "language": "python",
   "name": "python3"
  },
  "language_info": {
   "codemirror_mode": {
    "name": "ipython",
    "version": 3
   },
   "file_extension": ".py",
   "mimetype": "text/x-python",
   "name": "python",
   "nbconvert_exporter": "python",
   "pygments_lexer": "ipython3",
   "version": "3.8.3"
  }
 },
 "nbformat": 4,
 "nbformat_minor": 4
}
