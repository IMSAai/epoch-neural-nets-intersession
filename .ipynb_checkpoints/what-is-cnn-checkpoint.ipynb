{
 "cells": [
  {
   "cell_type": "markdown",
   "metadata": {},
   "source": [
    "# What is a Convolutional Neuron?"
   ]
  },
  {
   "cell_type": "markdown",
   "metadata": {},
   "source": [
    "Yesterday, we discussed the concept of a Linear Neuron - essentially applying y=mx+b to a lot of elements. However, research has shown that linear neurons are not particulary effective at learning features of images or videos because images aren't really designed to be interpreted in that fashion. Images aren't viewed pixel-by-pixel, but rather portions are viewed at once. Convolutional Neurons were first introduced in the 1980s by Yann LeCun, then a researcher at AT&T research (back when that was a big deal, he's now at FAIR). "
   ]
  },
  {
   "cell_type": "markdown",
   "metadata": {},
   "source": [
    "The goal of CNNs is to enable machines to view the world as humans do, perceive it in a similar manner and even use the knowledge for a multitude of tasks such as Image & Video recognition. It still uses the concepts of weights and biases, but they are not interpreted one by one.\n",
    "\n",
    "CNNs take in bigger parts of the images throughout so that they can process more complex images other than numbers, such as persons or places. A ConvNet is able to successfully capture the Spatial and Temporal dependencies (or time and space) in an image or video through the application of relevant filters."
   ]
  },
  {
   "cell_type": "markdown",
   "metadata": {},
   "source": [
    "The goal of a CNN is to reduce the size of a matrix that represents an image into a form that is easy to process, while keeping all the relevant information that a computer needs to classify the image. This reduction is important to process large images and videos. It is the feature learning part of the CNN - it doesn't make classifications, but rather aids the network in making those classifications. The objective of the Convolution Operation is to extract the high-level features such as edges, from the input image. "
   ]
  },
  {
   "cell_type": "markdown",
   "metadata": {},
   "source": [
    "![Overview of how convolutional layers are used in CNNs](https://github.com/epochml/epoch_intersession_2020-2021/blob/master/images/what-is-cnn/overview.jpg?raw=true)"
   ]
  },
  {
   "cell_type": "markdown",
   "metadata": {},
   "source": [
    "## How does convolution occur?"
   ]
  },
  {
   "cell_type": "markdown",
   "metadata": {},
   "source": [
    "### The Kernel\n",
    "Convolution occurs through a series of filters applied on an image. The element which is involved in carrying out the convolution itself is called the kernel, which has a size dependent on the matrix. You generally want your kernel to be big enough to capture any dependencies on surrounding pixels. For example, if you're writing a neural network to try to classify faces, you probably want your filter to be big enough to capture an eye, and so on. The whole point of the convolution layer is to take all those dependencies on surrounding pixels and reduce them into a single matrix or value."
   ]
  },
  {
   "cell_type": "markdown",
   "metadata": {},
   "source": [
    "### Stride\n",
    "How many spaces the kernel shifts over for every operation is referred to as the stride. For now, let's assume that the stride is 1 whenever we're using convolution."
   ]
  },
  {
   "cell_type": "markdown",
   "metadata": {},
   "source": [
    "![Animation of convolution](https://github.com/epochml/epoch_intersession_2020-2021/blob/master/images/what-is-cnn/convolution.gif?raw=true)"
   ]
  },
  {
   "cell_type": "markdown",
   "metadata": {},
   "source": [
    "## Pooling"
   ]
  },
  {
   "cell_type": "markdown",
   "metadata": {},
   "source": [
    "Pooling is another strategy to reduce the computational requirements of processing the data by using another kernel to produce another matrix of either the average of the new kernel, or the maximum of the new kernel. "
   ]
  },
  {
   "cell_type": "markdown",
   "metadata": {},
   "source": [
    "### Max Pooling"
   ]
  }
 ],
 "metadata": {
  "kernelspec": {
   "display_name": "Python 3",
   "language": "python",
   "name": "python3"
  },
  "language_info": {
   "codemirror_mode": {
    "name": "ipython",
    "version": 3
   },
   "file_extension": ".py",
   "mimetype": "text/x-python",
   "name": "python",
   "nbconvert_exporter": "python",
   "pygments_lexer": "ipython3",
   "version": "3.8.5"
  }
 },
 "nbformat": 4,
 "nbformat_minor": 4
}
