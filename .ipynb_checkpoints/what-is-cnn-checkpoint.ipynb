{
 "cells": [
  {
   "cell_type": "markdown",
   "metadata": {},
   "source": [
    "# What is a Convolutional Neuron?"
   ]
  },
  {
   "cell_type": "markdown",
   "metadata": {},
   "source": [
    "Yesterday, we discussed the concept of a Linear Neuron - essentially applying y=mx+b to a lot of elements. However, research has shown that linear neurons are not particulary effective at learning features of images or videos because images aren't really designed to be interpreted in that fashion. Images aren't viewed pixel-by-pixel, but rather portions are viewed at once. Convolutional Neurons were first introduced in the 1980s by Yann LeCun, then a researcher at AT&T research (back when that was a big deal, he's now at FAIR). "
   ]
  },
  {
   "cell_type": "markdown",
   "metadata": {},
   "source": [
    "The goal of CNNs is to enable machines to view the world as humans do, perceive it in a similar manner and even use the knowledge for a multitude of tasks such as Image & Video recognition. It still uses the concepts of weights and biases, but they are not interpreted one by one.\n",
    "\n",
    "CNNs take in bigger parts of the images throughout so that they can process more complex images other than numbers, such as persons or places. A ConvNet is able to successfully capture the Spatial and Temporal dependencies (or time and space) in an image or video through the application of relevant filters."
   ]
  },
  {
   "cell_type": "markdown",
   "metadata": {},
   "source": [
    "The goal of a CNN is to reduce the size of a matrix that represents an image into a form that is easy to process, while keeping all the relevant information that a computer needs to classify the image. This reduction is important to process large images and videos. It is the feature learning part of the CNN - it doesn't make classifications, but rather aids the network in making those classifications."
   ]
  },
  {
   "cell_type": "markdown",
   "metadata": {},
   "source": [
    "![Overview of how convolutional layers are used in CNNs](https://github.com/epochml/epoch_intersession_2020-2021/blob/master/images/what-is-cnn/overview.jpg?raw=true)"
   ]
  }
 ],
 "metadata": {
  "kernelspec": {
   "display_name": "Python 3",
   "language": "python",
   "name": "python3"
  },
  "language_info": {
   "codemirror_mode": {
    "name": "ipython",
    "version": 3
   },
   "file_extension": ".py",
   "mimetype": "text/x-python",
   "name": "python",
   "nbconvert_exporter": "python",
   "pygments_lexer": "ipython3",
   "version": "3.8.5"
  }
 },
 "nbformat": 4,
 "nbformat_minor": 4
}
